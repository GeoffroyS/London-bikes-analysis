{
 "cells": [
  {
   "cell_type": "code",
   "execution_count": 1,
   "metadata": {},
   "outputs": [],
   "source": [
    "import os\n",
    "import glob\n",
    "import pandas as pd"
   ]
  },
  {
   "cell_type": "code",
   "execution_count": 9,
   "metadata": {},
   "outputs": [
    {
     "name": "stdout",
     "output_type": "stream",
     "text": [
      "['157JourneyDataExtract10Apr2019-16Apr2019.csv', '158JourneyDataExtract17Apr2019-23Apr2019.csv']\n",
      "   Rental Id  Duration  Bike Id          End Date  EndStation Id  \\\n",
      "0   85830556      1080     2317  13/04/2019 14:25            553   \n",
      "1   85824613       420    16173  13/04/2019 10:05            715   \n",
      "2   85916752      1020    10848  16/04/2019 17:25            553   \n",
      "3   85810735      1140     8626  12/04/2019 16:34            553   \n",
      "4   85849238      1140     2139  14/04/2019 13:02            553   \n",
      "\n",
      "              EndStation Name        Start Date  StartStation Id  \\\n",
      "0  Regent's Row , Haggerston   13/04/2019 14:07              835   \n",
      "1     Aylward Street, Stepney  13/04/2019 09:58               33   \n",
      "2  Regent's Row , Haggerston   16/04/2019 17:08              835   \n",
      "3  Regent's Row , Haggerston   12/04/2019 16:15              835   \n",
      "4  Regent's Row , Haggerston   14/04/2019 12:43              835   \n",
      "\n",
      "            StartStation Name  \n",
      "0  Farringdon Street, Holborn  \n",
      "1      Central House, Aldgate  \n",
      "2  Farringdon Street, Holborn  \n",
      "3  Farringdon Street, Holborn  \n",
      "4  Farringdon Street, Holborn  \n"
     ]
    }
   ],
   "source": [
    "# concatenate the csv files.\n",
    "# maybe just cat file1.csv file2.csv > outputfile.csv ...?\n",
    "cwd = os.getcwd()\n",
    "# for now...\n",
    "os.chdir('/Users/geo/london_bikes/London-bikes-analysis/data')\n",
    "\n",
    "files_names = [i for i in glob.glob('*.csv')]\n",
    "print(files_names)\n",
    "\n",
    "final_csv = pd.concat([pd.read_csv(file) for file in files_names ])\n",
    "final_csv.to_csv( \"final_csv.csv\", index=False, encoding='utf-8')\n",
    "\n",
    "print(final_csv.head())"
   ]
  },
  {
   "cell_type": "code",
   "execution_count": null,
   "metadata": {},
   "outputs": [],
   "source": []
  }
 ],
 "metadata": {
  "kernelspec": {
   "display_name": "bikes",
   "language": "python",
   "name": "envname"
  },
  "language_info": {
   "codemirror_mode": {
    "name": "ipython",
    "version": 3
   },
   "file_extension": ".py",
   "mimetype": "text/x-python",
   "name": "python",
   "nbconvert_exporter": "python",
   "pygments_lexer": "ipython3",
   "version": "3.7.2"
  }
 },
 "nbformat": 4,
 "nbformat_minor": 2
}
