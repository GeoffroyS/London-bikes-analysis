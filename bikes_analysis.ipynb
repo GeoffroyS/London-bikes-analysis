{
 "cells": [
  {
   "cell_type": "code",
   "execution_count": 1,
   "metadata": {},
   "outputs": [],
   "source": [
    "import os\n",
    "import glob\n",
    "import pandas as pd\n",
    "import datetime as dt\n",
    "import seaborn as sns\n",
    "import matplotlib.pyplot as plt"
   ]
  },
  {
   "cell_type": "code",
   "execution_count": 2,
   "metadata": {},
   "outputs": [
    {
     "name": "stdout",
     "output_type": "stream",
     "text": [
      "['157JourneyDataExtract10Apr2019-16Apr2019.csv', '158JourneyDataExtract17Apr2019-23Apr2019.csv']\n"
     ]
    }
   ],
   "source": [
    "# concatenate the csv files.\n",
    "# maybe just cat file1.csv file2.csv > outputfile.csv ...?\n",
    "# todo: try and see what's fastest with many 'big' csv files\n",
    "cwd = os.getcwd()\n",
    "# for now...\n",
    "os.chdir('/Users/geo/london_bikes/London-bikes-analysis/data')\n",
    "\n",
    "files_names = [i for i in glob.glob('*.csv')]\n",
    "# show list of all the files\n",
    "print(files_names)\n",
    "\n",
    "final_df = pd.concat([pd.read_csv(file) for file in files_names ]).reset_index(drop=True)\n",
    "# ../ just to avoid concatenating with final_csv by mistake when re-running this cell\n",
    "final_df.to_csv( \"../final_csv.csv\", index=False, encoding='utf-8')"
   ]
  },
  {
   "cell_type": "code",
   "execution_count": 3,
   "metadata": {},
   "outputs": [
    {
     "name": "stdout",
     "output_type": "stream",
     "text": [
      "   Rental Id  Duration  Bike Id          End Date  EndStation Id  \\\n",
      "0   85830556      1080     2317  13/04/2019 14:25            553   \n",
      "1   85824613       420    16173  13/04/2019 10:05            715   \n",
      "2   85916752      1020    10848  16/04/2019 17:25            553   \n",
      "3   85810735      1140     8626  12/04/2019 16:34            553   \n",
      "4   85849238      1140     2139  14/04/2019 13:02            553   \n",
      "\n",
      "              EndStation Name        Start Date  StartStation Id  \\\n",
      "0  Regent's Row , Haggerston   13/04/2019 14:07              835   \n",
      "1     Aylward Street, Stepney  13/04/2019 09:58               33   \n",
      "2  Regent's Row , Haggerston   16/04/2019 17:08              835   \n",
      "3  Regent's Row , Haggerston   12/04/2019 16:15              835   \n",
      "4  Regent's Row , Haggerston   14/04/2019 12:43              835   \n",
      "\n",
      "            StartStation Name  \n",
      "0  Farringdon Street, Holborn  \n",
      "1      Central House, Aldgate  \n",
      "2  Farringdon Street, Holborn  \n",
      "3  Farringdon Street, Holborn  \n",
      "4  Farringdon Street, Holborn  \n",
      "        Rental Id  Duration  Bike Id          End Date  EndStation Id  \\\n",
      "444207   85980983      1080    12283  18/04/2019 13:06            300   \n",
      "444208   86099277      1200      774  21/04/2019 14:50            366   \n",
      "444209   85983623      4860    13126  18/04/2019 15:30             47   \n",
      "444210   86117861       960     7868  21/04/2019 20:32            500   \n",
      "444211   86121017       600    13719  21/04/2019 23:36            500   \n",
      "\n",
      "                           EndStation Name        Start Date  StartStation Id  \\\n",
      "444207      Serpentine Car Park, Hyde Park  18/04/2019 12:48              584   \n",
      "444208           Millennium Hotel, Mayfair  21/04/2019 14:30              233   \n",
      "444209  Warwick Avenue Station, Maida Vale  18/04/2019 14:09              397   \n",
      "444210               Ansell House, Stepney  21/04/2019 20:16              401   \n",
      "444211               Ansell House, Stepney  21/04/2019 23:26              531   \n",
      "\n",
      "                    StartStation Name  \n",
      "444207   Ilchester Gardens, Bayswater  \n",
      "444208       Pall Mall East, West End  \n",
      "444209  Devonshire Terrace, Bayswater  \n",
      "444210      Columbia Road, Shoreditch  \n",
      "444211    Twig Folly Bridge, Mile End  \n",
      "(444212, 9)\n"
     ]
    }
   ],
   "source": [
    "print(final_df.head())\n",
    "print(final_df.tail())\n",
    "print(final_df.shape)"
   ]
  },
  {
   "cell_type": "code",
   "execution_count": 4,
   "metadata": {},
   "outputs": [
    {
     "name": "stdout",
     "output_type": "stream",
     "text": [
      "(444212, 13)\n",
      "Rental Id                              85830556\n",
      "Duration                                   1080\n",
      "Bike Id                                    2317\n",
      "End Date                    2019-04-13 14:25:00\n",
      "EndStation Id                               553\n",
      "EndStation Name      Regent's Row , Haggerston \n",
      "Start Date                  2019-04-13 14:25:00\n",
      "StartStation Id                             835\n",
      "StartStation Name    Farringdon Street, Holborn\n",
      "Start Date Day                       2019-04-13\n",
      "End Date Day                         2019-04-13\n",
      "Start Date Time                        14:07:00\n",
      "End Date Time                          14:25:00\n",
      "Name: 0, dtype: object\n"
     ]
    }
   ],
   "source": [
    "# adding separate columns for the start/end days/times\n",
    "final_df['Start Date Day'] = pd.to_datetime(final_df['Start Date'], format='%d/%m/%Y %H:%M').apply(lambda x: str(x.date()))\n",
    "final_df['End Date Day'] = pd.to_datetime(final_df['End Date'], format='%d/%m/%Y %H:%M').apply(lambda x: str(x.date()))\n",
    "final_df['Start Date Time'] = pd.to_datetime(final_df['Start Date'], format='%d/%m/%Y %H:%M').apply(lambda x: str(x.time()))\n",
    "final_df['End Date Time'] = pd.to_datetime(final_df['End Date'], format='%d/%m/%Y %H:%M').apply(lambda x: str(x.time()))\n",
    "final_df['Start Date'] = pd.to_datetime(final_df['End Date'], format='%d/%m/%Y %H:%M')\n",
    "final_df['End Date'] = pd.to_datetime(final_df['End Date'], format='%d/%m/%Y %H:%M')\n",
    "\n",
    "# what it looks like now\n",
    "print(final_df.shape)\n",
    "print(final_df.iloc[0,])\n"
   ]
  },
  {
   "cell_type": "code",
   "execution_count": 5,
   "metadata": {},
   "outputs": [
    {
     "name": "stdout",
     "output_type": "stream",
     "text": [
      "1500.6109245135206\n",
      "900.0\n",
      "(444212, 13)\n"
     ]
    }
   ],
   "source": [
    "print(final_df['Duration'].mean())\n",
    "print(final_df['Duration'].median())\n",
    "print(final_df.shape)"
   ]
  },
  {
   "cell_type": "code",
   "execution_count": 13,
   "metadata": {},
   "outputs": [
    {
     "data": {
      "image/png": "[encoded data removed]",
      "text/plain": [
       "<Figure size 842.4x595.44 with 1 Axes>"
      ]
     },
     "metadata": {},
     "output_type": "display_data"
    }
   ],
   "source": [
    "sns.set(rc = {'figure.figsize': (11.7, 8.27)})\n",
    "ax = sns.distplot(final_df['Duration'], bins = 4000)\n",
    "plt.xlim(0,10000)\n",
    "plt.show()"
   ]
  },
  {
   "cell_type": "code",
   "execution_count": null,
   "metadata": {},
   "outputs": [],
   "source": []
  }
 ],
 "metadata": {
  "kernelspec": {
   "display_name": "bikes",
   "language": "python",
   "name": "envname"
  },
  "language_info": {
   "codemirror_mode": {
    "name": "ipython",
    "version": 3
   },
   "file_extension": ".py",
   "mimetype": "text/x-python",
   "name": "python",
   "nbconvert_exporter": "python",
   "pygments_lexer": "ipython3",
   "version": "3.7.2"
  }
 },
 "nbformat": 4,
 "nbformat_minor": 2
}
