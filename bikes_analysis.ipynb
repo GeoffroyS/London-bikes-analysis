{
 "cells": [
  {
   "cell_type": "code",
   "execution_count": 1,
   "metadata": {},
   "outputs": [],
   "source": [
    "import os\n",
    "import glob\n",
    "import pandas as pd\n",
    "import datetime as dt\n",
    "import seaborn as sns\n",
    "import matplotlib.pyplot as plt"
   ]
  },
  {
   "cell_type": "code",
   "execution_count": 2,
   "metadata": {},
   "outputs": [
    {
     "name": "stdout",
     "output_type": "stream",
     "text": [
      "['155JourneyDataExtract27Mar2019-02Apr2019.csv', '156JourneyDataExtract03Apr2019-09Apr2019.csv', '157JourneyDataExtract10Apr2019-16Apr2019.csv', '158JourneyDataExtract17Apr2019-23Apr2019.csv', '159JourneyDataExtract24Apr2019-30Apr2019.csv']\n"
     ]
    }
   ],
   "source": [
    "# concatenate the csv files.\n",
    "# maybe just cat file1.csv file2.csv > outputfile.csv ...?\n",
    "# todo: try and see what's fastest with many 'big' csv files\n",
    "cwd = os.getcwd()\n",
    "# for now...\n",
    "os.chdir('/Users/geo/london_bikes/London-bikes-analysis/data')\n",
    "\n",
    "files_names = [i for i in glob.glob('*.csv')]\n",
    "# show list of all the files\n",
    "print(files_names)\n",
    "\n",
    "april_bikes_df = pd.concat([pd.read_csv(file) for file in files_names ]).reset_index(drop=True)\n",
    "# ../ just to avoid concatenating with final_csv by mistake when re-running this cell\n",
    "april_bikes_df.to_csv( \"../final_csv.csv\", index=False, encoding='utf-8')"
   ]
  },
  {
   "cell_type": "code",
   "execution_count": null,
   "metadata": {},
   "outputs": [],
   "source": [
    "print(april_bikes_df.head())\n",
    "#print(april_bikes_df.shape)\n",
    "#print(april_bikes_df.groupby(final_df['Start Date'].dt.month).size())"
   ]
  },
  {
   "cell_type": "code",
   "execution_count": null,
   "metadata": {},
   "outputs": [],
   "source": [
    "april_bikes_df['Start Date'] = pd.to_datetime(april_bikes_df['Start Date'],format = '%d/%m/%Y %H:%M')\n",
    "april_bikes_df['End Date'] = pd.to_datetime(april_bikes_df['End Date'],format = '%d/%m/%Y %H:%M')"
   ]
  },
  {
   "cell_type": "code",
   "execution_count": null,
   "metadata": {},
   "outputs": [],
   "source": [
    "fig, (ax1, ax2) = plt.subplots(nrows=2, figsize=(14,12))\n",
    "\n",
    "ax1.set_ylim(0,120000)\n",
    "ax1.set_title('Number of bikes picked up as a function of the time of the day', fontsize=15)\n",
    "\n",
    "ax2.set_ylim(0,40000)\n",
    "ax2.set_title('Number of bikes picked up as a function of the day (during April)', fontsize=15)\n",
    "\n",
    "april_bikes_df.groupby(april_bikes_df['Start Date'].rename('Hours').dt.hour).size().plot(ax=ax1)\n",
    "april_bikes_df.groupby(april_bikes_df['Start Date'].rename('Day of the month').dt.date).size().plot(ax=ax2)"
   ]
  },
  {
   "cell_type": "code",
   "execution_count": null,
   "metadata": {},
   "outputs": [],
   "source": [
    "fig, (ax1, ax2) = plt.subplots(nrows=2, figsize=(14,14))\n",
    "\n",
    "sns.countplot(data = april_bikes_df[april_bikes_df['Duration'] <= 3600],\n",
    "              x = 'Duration',\n",
    "              ax = ax1,\n",
    "              color = 'c').set_title('Number of trips as a function of its duration (duration < 1h)')\n",
    "\n",
    "sns.countplot(data = april_bikes_df[(april_bikes_df['Duration'] > 3600) & (april_bikes_df['Duration'] < 7200)],\n",
    "              x = 'Duration',\n",
    "              ax = ax2,\n",
    "              color = 'c').set_title('Number of trips as a function of its duration (1h < duration < 2h)')\n",
    "\n",
    "ax1.set_xticklabels(ax1.get_xticklabels(), rotation=70)\n",
    "ax2.set_xticklabels(ax2.get_xticklabels(), rotation=70)\n",
    "plt.show()"
   ]
  },
  {
   "cell_type": "code",
   "execution_count": null,
   "metadata": {},
   "outputs": [],
   "source": [
    "print(final_df['Duration'].mean())\n",
    "print(final_df['Duration'].median())\n",
    "print(final_df[final_df['Duration'] < 10000].shape)"
   ]
  },
  {
   "cell_type": "code",
   "execution_count": null,
   "metadata": {},
   "outputs": [],
   "source": [
    "fig, (ax1, ax2) = plt.subplots(nrows=2, figsize=(14,10))\n",
    "\n",
    "sns.countplot(data = df_less_than_1h, x = 'Duration', ax = ax1, color = 'c')\n",
    "sns.countplot(data = df_more_than_1h, x = 'Duration', ax = ax2, color = 'c')\n",
    "\n",
    "ax1.set_xticklabels(ax1.get_xticklabels(), rotation=70)\n",
    "ax2.set_xticklabels(ax2.get_xticklabels(), rotation=70)\n",
    "plt.show()"
   ]
  },
  {
   "cell_type": "code",
   "execution_count": null,
   "metadata": {},
   "outputs": [],
   "source": [
    "fig, (ax1, ax2) = plt.subplots(nrows=2, figsize=(14,10))\n",
    "sns.lineplot(x=\"date\", y=\"number of bikes\", data=final_df['Start Date Day'].map(lambda x: x.strftime(\"%m-%d-%Y\")))"
   ]
  }
 ],
 "metadata": {
  "kernelspec": {
   "display_name": "bikes",
   "language": "python",
   "name": "envname"
  },
  "language_info": {
   "codemirror_mode": {
    "name": "ipython",
    "version": 3
   },
   "file_extension": ".py",
   "mimetype": "text/x-python",
   "name": "python",
   "nbconvert_exporter": "python",
   "pygments_lexer": "ipython3",
   "version": "3.7.2"
  }
 },
 "nbformat": 4,
 "nbformat_minor": 2
}
